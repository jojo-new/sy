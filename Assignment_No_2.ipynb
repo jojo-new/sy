{
 "cells": [
  {
   "cell_type": "code",
   "execution_count": 1,
   "id": "797c8730-d9ee-4db1-9eb4-472577a98b80",
   "metadata": {
    "scrolled": true
   },
   "outputs": [
    {
     "name": "stdout",
     "output_type": "stream",
     "text": [
      "WARNING:tensorflow:From C:\\New folder\\Lib\\site-packages\\keras\\src\\losses.py:2976: The name tf.losses.sparse_softmax_cross_entropy is deprecated. Please use tf.compat.v1.losses.sparse_softmax_cross_entropy instead.\n",
      "\n"
     ]
    }
   ],
   "source": [
    "from tensorflow.keras.datasets import imdb"
   ]
  },
  {
   "cell_type": "code",
   "execution_count": 2,
   "id": "904c3991-ee32-4b6f-97e9-d49cea73ddd7",
   "metadata": {},
   "outputs": [],
   "source": [
    "(train_data, train_label), (test_data, test_label) = imdb.load_data(num_words = 10000)"
   ]
  },
  {
   "cell_type": "code",
   "execution_count": 3,
   "id": "bbe8e4af-92d1-4fc6-a075-385cde562c14",
   "metadata": {},
   "outputs": [],
   "source": [
    "import numpy as np\n",
    "# list of iteger to binary vector \n",
    "\n",
    "def vectorize_sequences(sequences, dimensions = 10000):\n",
    "  results = np.zeros((len(sequences), dimensions))\n",
    "  for i,sequences in enumerate(sequences):\n",
    "    results[i, sequences] = 1\n",
    "  return results\n",
    "\n",
    "x_train = vectorize_sequences(train_data)\n",
    "x_test = vectorize_sequences(test_data)"
   ]
  },
  {
   "cell_type": "code",
   "execution_count": 4,
   "id": "b2bde688-2bfe-4081-8320-dbe6485a63b5",
   "metadata": {},
   "outputs": [],
   "source": [
    "y_train = np.asarray(train_label).astype('float32')\n",
    "y_test = np.asarray(test_label).astype('float32')"
   ]
  },
  {
   "cell_type": "code",
   "execution_count": 5,
   "id": "4d8daa72-179d-4067-b940-984b729337ee",
   "metadata": {},
   "outputs": [],
   "source": [
    "from tensorflow.keras.models import Sequential\n",
    "from tensorflow.keras.layers import Dense"
   ]
  },
  {
   "cell_type": "code",
   "execution_count": 6,
   "id": "8756052f-59df-4057-8c34-d43c5c1a8f33",
   "metadata": {},
   "outputs": [
    {
     "name": "stdout",
     "output_type": "stream",
     "text": [
      "WARNING:tensorflow:From C:\\New folder\\Lib\\site-packages\\keras\\src\\backend.py:873: The name tf.get_default_graph is deprecated. Please use tf.compat.v1.get_default_graph instead.\n",
      "\n"
     ]
    }
   ],
   "source": [
    "model = Sequential()\n",
    "model.add(Dense(16, input_shape=(10000, ), activation = \"relu\"))\n",
    "model.add(Dense(16, activation = \"relu\"))\n",
    "model.add(Dense(1, activation = \"sigmoid\"))"
   ]
  },
  {
   "cell_type": "code",
   "execution_count": 7,
   "id": "69bfb14b-dbf5-43dc-814e-9541a73817f2",
   "metadata": {},
   "outputs": [
    {
     "name": "stdout",
     "output_type": "stream",
     "text": [
      "WARNING:tensorflow:From C:\\New folder\\Lib\\site-packages\\keras\\src\\optimizers\\__init__.py:309: The name tf.train.Optimizer is deprecated. Please use tf.compat.v1.train.Optimizer instead.\n",
      "\n"
     ]
    }
   ],
   "source": [
    "model.compile(optimizer='adam', loss = 'mse', metrics = ['accuracy'])"
   ]
  },
  {
   "cell_type": "code",
   "execution_count": 8,
   "id": "48f6f7f2-63f4-4d19-93b4-31553717d0ba",
   "metadata": {},
   "outputs": [
    {
     "name": "stdout",
     "output_type": "stream",
     "text": [
      "Model: \"sequential\"\n",
      "_________________________________________________________________\n",
      " Layer (type)                Output Shape              Param #   \n",
      "=================================================================\n",
      " dense (Dense)               (None, 16)                160016    \n",
      "                                                                 \n",
      " dense_1 (Dense)             (None, 16)                272       \n",
      "                                                                 \n",
      " dense_2 (Dense)             (None, 1)                 17        \n",
      "                                                                 \n",
      "=================================================================\n",
      "Total params: 160305 (626.19 KB)\n",
      "Trainable params: 160305 (626.19 KB)\n",
      "Non-trainable params: 0 (0.00 Byte)\n",
      "_________________________________________________________________\n"
     ]
    }
   ],
   "source": [
    "model.summary()"
   ]
  },
  {
   "cell_type": "code",
   "execution_count": 9,
   "id": "228eed1f-7aa0-4122-ba75-350e265fa1a3",
   "metadata": {},
   "outputs": [
    {
     "name": "stdout",
     "output_type": "stream",
     "text": [
      "Epoch 1/20\n",
      "WARNING:tensorflow:From C:\\New folder\\Lib\\site-packages\\keras\\src\\utils\\tf_utils.py:492: The name tf.ragged.RaggedTensorValue is deprecated. Please use tf.compat.v1.ragged.RaggedTensorValue instead.\n",
      "\n",
      "WARNING:tensorflow:From C:\\New folder\\Lib\\site-packages\\keras\\src\\engine\\base_layer_utils.py:384: The name tf.executing_eagerly_outside_functions is deprecated. Please use tf.compat.v1.executing_eagerly_outside_functions instead.\n",
      "\n",
      "40/40 [==============================] - 4s 50ms/step - loss: 0.1785 - accuracy: 0.7888 - val_loss: 0.1161 - val_accuracy: 0.8760\n",
      "Epoch 2/20\n",
      "40/40 [==============================] - 1s 15ms/step - loss: 0.0858 - accuracy: 0.9097 - val_loss: 0.0865 - val_accuracy: 0.8942\n",
      "Epoch 3/20\n",
      "40/40 [==============================] - 1s 15ms/step - loss: 0.0580 - accuracy: 0.9372 - val_loss: 0.0810 - val_accuracy: 0.8972\n",
      "Epoch 4/20\n",
      "40/40 [==============================] - 1s 14ms/step - loss: 0.0439 - accuracy: 0.9534 - val_loss: 0.0811 - val_accuracy: 0.8924\n",
      "Epoch 5/20\n",
      "40/40 [==============================] - 1s 13ms/step - loss: 0.0347 - accuracy: 0.9650 - val_loss: 0.0826 - val_accuracy: 0.8898\n",
      "Epoch 6/20\n",
      "40/40 [==============================] - 1s 14ms/step - loss: 0.0283 - accuracy: 0.9725 - val_loss: 0.0850 - val_accuracy: 0.8870\n",
      "Epoch 7/20\n",
      "40/40 [==============================] - 1s 14ms/step - loss: 0.0227 - accuracy: 0.9804 - val_loss: 0.0882 - val_accuracy: 0.8850\n",
      "Epoch 8/20\n",
      "40/40 [==============================] - 1s 14ms/step - loss: 0.0184 - accuracy: 0.9855 - val_loss: 0.0902 - val_accuracy: 0.8810\n",
      "Epoch 9/20\n",
      "40/40 [==============================] - 1s 16ms/step - loss: 0.0152 - accuracy: 0.9887 - val_loss: 0.0927 - val_accuracy: 0.8798\n",
      "Epoch 10/20\n",
      "40/40 [==============================] - 1s 14ms/step - loss: 0.0129 - accuracy: 0.9902 - val_loss: 0.0952 - val_accuracy: 0.8764\n",
      "Epoch 11/20\n",
      "40/40 [==============================] - 1s 13ms/step - loss: 0.0109 - accuracy: 0.9923 - val_loss: 0.0971 - val_accuracy: 0.8774\n",
      "Epoch 12/20\n",
      "40/40 [==============================] - 1s 13ms/step - loss: 0.0094 - accuracy: 0.9932 - val_loss: 0.0996 - val_accuracy: 0.8738\n",
      "Epoch 13/20\n",
      "40/40 [==============================] - 1s 15ms/step - loss: 0.0082 - accuracy: 0.9940 - val_loss: 0.1013 - val_accuracy: 0.8726\n",
      "Epoch 14/20\n",
      "40/40 [==============================] - 1s 13ms/step - loss: 0.0073 - accuracy: 0.9944 - val_loss: 0.1028 - val_accuracy: 0.8714\n",
      "Epoch 15/20\n",
      "40/40 [==============================] - 1s 14ms/step - loss: 0.0069 - accuracy: 0.9945 - val_loss: 0.1042 - val_accuracy: 0.8720\n",
      "Epoch 16/20\n",
      "40/40 [==============================] - 1s 15ms/step - loss: 0.0064 - accuracy: 0.9948 - val_loss: 0.1050 - val_accuracy: 0.8706\n",
      "Epoch 17/20\n",
      "40/40 [==============================] - 1s 15ms/step - loss: 0.0061 - accuracy: 0.9949 - val_loss: 0.1059 - val_accuracy: 0.8702\n",
      "Epoch 18/20\n",
      "40/40 [==============================] - 1s 14ms/step - loss: 0.0059 - accuracy: 0.9951 - val_loss: 0.1076 - val_accuracy: 0.8688\n",
      "Epoch 19/20\n",
      "40/40 [==============================] - 1s 14ms/step - loss: 0.0057 - accuracy: 0.9951 - val_loss: 0.1083 - val_accuracy: 0.8696\n",
      "Epoch 20/20\n",
      "40/40 [==============================] - 1s 14ms/step - loss: 0.0055 - accuracy: 0.9951 - val_loss: 0.1087 - val_accuracy: 0.8692\n"
     ]
    }
   ],
   "source": [
    "history = model.fit(x_train, y_train, validation_split = 0.2, epochs = 20, verbose = 1, batch_size = 512)"
   ]
  },
  {
   "cell_type": "code",
   "execution_count": 10,
   "id": "ac7e4813-3ab0-45ac-80c8-3d90d1fcbec5",
   "metadata": {},
   "outputs": [
    {
     "name": "stdout",
     "output_type": "stream",
     "text": [
      "782/782 [==============================] - 2s 2ms/step - loss: 0.1188 - accuracy: 0.8584\n",
      "MSE  0.11880099773406982\n",
      "MAE  0.8583599925041199\n"
     ]
    }
   ],
   "source": [
    "mse,mae = model.evaluate(x_test,y_test)\n",
    "\n",
    "print('MSE ',mse)\n",
    "print('MAE ',mae)"
   ]
  },
  {
   "cell_type": "code",
   "execution_count": 11,
   "id": "ed2d5a32-f75c-49e9-a7e3-3a0281377be3",
   "metadata": {},
   "outputs": [
    {
     "name": "stdout",
     "output_type": "stream",
     "text": [
      "782/782 [==============================] - 3s 3ms/step\n"
     ]
    }
   ],
   "source": [
    "y_preds = model.predict(x_test)"
   ]
  },
  {
   "cell_type": "code",
   "execution_count": 12,
   "id": "69e70b72-ea79-43e0-af3c-b17af1f61627",
   "metadata": {},
   "outputs": [
    {
     "name": "stderr",
     "output_type": "stream",
     "text": [
      "C:\\Users\\dell\\AppData\\Local\\Temp\\ipykernel_11120\\3601039242.py:3: DeprecationWarning: Conversion of an array with ndim > 0 to a scalar is deprecated, and will error in future. Ensure you extract a single element from your array before performing this operation. (Deprecated NumPy 1.25.)\n",
      "  tests.append(int(i))\n"
     ]
    }
   ],
   "source": [
    "tests = []\n",
    "for i in y_preds:\n",
    "    tests.append(int(i))"
   ]
  },
  {
   "cell_type": "code",
   "execution_count": 13,
   "id": "4f301ecb-3052-4781-9c9e-56ab905d9bf7",
   "metadata": {},
   "outputs": [],
   "source": [
    "preds=[]\n",
    "for i in y_preds:\n",
    "    if i[0]>0.5:\n",
    "        preds.append(1)\n",
    "    else:\n",
    "        preds.append(0)"
   ]
  },
  {
   "cell_type": "code",
   "execution_count": 14,
   "id": "7544aea3-e11e-4458-ae89-facfc978e9cf",
   "metadata": {},
   "outputs": [
    {
     "name": "stdout",
     "output_type": "stream",
     "text": [
      "0.85836\n",
      "0.8638615871984404\n",
      "0.8508\n"
     ]
    }
   ],
   "source": [
    "from sklearn.metrics import accuracy_score,precision_score,recall_score\n",
    "\n",
    "print(accuracy_score(y_test,preds))\n",
    "print(precision_score(y_test,preds))\n",
    "print(recall_score(y_test,preds))"
   ]
  },
  {
   "cell_type": "code",
   "execution_count": 15,
   "id": "5b76fc7e-6d73-4a6c-8102-3f5e5e58c263",
   "metadata": {},
   "outputs": [],
   "source": [
    "word_index = imdb.get_word_index()"
   ]
  },
  {
   "cell_type": "code",
   "execution_count": 16,
   "id": "97b753a0-38af-43a9-abb7-e5f6c9311cb8",
   "metadata": {},
   "outputs": [],
   "source": [
    "def return_token(tid):\n",
    "    for k,v in word_index.items():\n",
    "        if v == tid-3:\n",
    "            return k\n",
    "    return '?'     "
   ]
  },
  {
   "cell_type": "code",
   "execution_count": 17,
   "id": "4a2e171f-e12d-46a2-a42e-bfe682f194fa",
   "metadata": {},
   "outputs": [],
   "source": [
    "def print_review(id_):\n",
    "    sentence = ' '.join(return_token(i) for i in train_data[id_])\n",
    "    return sentence"
   ]
  },
  {
   "cell_type": "code",
   "execution_count": 18,
   "id": "80a77502-f615-49f8-9153-f1f4e129b8bd",
   "metadata": {},
   "outputs": [
    {
     "data": {
      "text/plain": [
       "\"? this film was just brilliant casting location scenery story direction everyone's really suited the part they played and you could just imagine being there robert ? is an amazing actor and now the same being director ? father came from the same scottish island as myself so i loved the fact there was a real connection with this film the witty remarks throughout the film were great it was just brilliant so much that i bought the film as soon as it was released for ? and would recommend it to everyone to watch and the fly fishing was amazing really cried at the end it was so sad and you know what they say if you cry at a film it must have been good and this definitely was also ? to the two little boy's that played the ? of norman and paul they were just brilliant children are often left out of the ? list i think because the stars that play them all grown up are such a big profile for the whole film but these children are amazing and should be praised for what they have done don't you think the whole story was so lovely because it was true and was someone's life after all that was shared with us all\""
      ]
     },
     "execution_count": 18,
     "metadata": {},
     "output_type": "execute_result"
    }
   ],
   "source": [
    "print_review(0)"
   ]
  },
  {
   "cell_type": "code",
   "execution_count": 21,
   "id": "da823a99-50d4-4695-90bf-bb490973848c",
   "metadata": {},
   "outputs": [
    {
     "data": {
      "text/plain": [
       "1"
      ]
     },
     "execution_count": 21,
     "metadata": {},
     "output_type": "execute_result"
    }
   ],
   "source": [
    "train_label[0]"
   ]
  },
  {
   "cell_type": "code",
   "execution_count": 22,
   "id": "09954882-d783-48ee-b02d-26b3731da75c",
   "metadata": {},
   "outputs": [
    {
     "data": {
      "text/plain": [
       "\"? big hair big boobs bad music and a giant safety pin these are the words to best describe this terrible movie i love cheesy horror movies and i've seen hundreds but this had got to be on of the worst ever made the plot is paper thin and ridiculous the acting is an abomination the script is completely laughable the best is the end showdown with the cop and how he worked out who the killer is it's just so damn terribly written the clothes are sickening and funny in equal ? the hair is big lots of boobs ? men wear those cut ? shirts that show off their ? sickening that men actually wore them and the music is just ? trash that plays over and over again in almost every scene there is trashy music boobs and ? taking away bodies and the gym still doesn't close for ? all joking aside this is a truly bad film whose only charm is to look back on the disaster that was the 80's and have a good old laugh at how bad everything was back then\""
      ]
     },
     "execution_count": 22,
     "metadata": {},
     "output_type": "execute_result"
    }
   ],
   "source": [
    "print_review(1)"
   ]
  },
  {
   "cell_type": "code",
   "execution_count": 21,
   "id": "ff02e06e-8423-4843-837e-ecf4ebf3ecd0",
   "metadata": {},
   "outputs": [
    {
     "data": {
      "text/plain": [
       "0"
      ]
     },
     "execution_count": 21,
     "metadata": {},
     "output_type": "execute_result"
    }
   ],
   "source": [
    "train_label[1]"
   ]
  },
  {
   "cell_type": "code",
   "execution_count": null,
   "id": "e0488af8-7989-4f29-8f33-e2f7366b6999",
   "metadata": {},
   "outputs": [],
   "source": []
  }
 ],
 "metadata": {
  "kernelspec": {
   "display_name": "Python 3 (ipykernel)",
   "language": "python",
   "name": "python3"
  },
  "language_info": {
   "codemirror_mode": {
    "name": "ipython",
    "version": 3
   },
   "file_extension": ".py",
   "mimetype": "text/x-python",
   "name": "python",
   "nbconvert_exporter": "python",
   "pygments_lexer": "ipython3",
   "version": "3.11.5"
  }
 },
 "nbformat": 4,
 "nbformat_minor": 5
}
